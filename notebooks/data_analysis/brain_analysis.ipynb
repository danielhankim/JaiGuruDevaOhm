{
 "cells": [
  {
   "cell_type": "code",
   "execution_count": 1,
   "id": "03c57d70-b8b9-465c-86cb-818c9a95fe57",
   "metadata": {},
   "outputs": [],
   "source": [
    "import numpy as np\n",
    "import pandas as pd\n",
    "import os\n",
    "import matplotlib.pyplot as plt\n",
    "from sklearn.preprocessing import StandardScaler\n",
    "from scipy.io import wavfile"
   ]
  },
  {
   "cell_type": "code",
   "execution_count": 2,
   "id": "d0698b10-8791-4038-8389-21beda314222",
   "metadata": {},
   "outputs": [],
   "source": [
    "def adjust_amplitude(data, amplitude = 8192):\n",
    "    if type(data) != np.ndarray:\n",
    "        data = np.array(data)\n",
    "    w = amplitude / np.max(abs(data))\n",
    "    rescaled_data = [w * d for d in data]\n",
    "    # rescaled_data = np.concatenate(rescaled_data)\n",
    "    rescaled_data = np.array(rescaled_data)\n",
    "    return rescaled_data\n",
    "\n",
    "def extend_length(data, scale):\n",
    "    extended_data = []\n",
    "    for sig in data:\n",
    "        for i in range(scale):\n",
    "            extended_data.append(sig)\n",
    "    return extended_data"
   ]
  },
  {
   "cell_type": "markdown",
   "id": "e3a331e7-ca0d-4e49-8ea3-cf7c1eb9ed7d",
   "metadata": {},
   "source": [
    "## Import data"
   ]
  },
  {
   "cell_type": "code",
   "execution_count": 3,
   "id": "9094546d-18e5-414e-8799-9a2c503541a2",
   "metadata": {},
   "outputs": [
    {
     "name": "stdout",
     "output_type": "stream",
     "text": [
      "['ext_braindata.dat', 'braindata.dat']\n"
     ]
    }
   ],
   "source": [
    "path = '../brain/'\n",
    "files = os.listdir(path)\n",
    "files.remove('.DS_Store')\n",
    "print(files)"
   ]
  },
  {
   "cell_type": "code",
   "execution_count": 8,
   "id": "b6d10d8c-06d8-4ed3-91fc-b68dba87017a",
   "metadata": {},
   "outputs": [
    {
     "name": "stdout",
     "output_type": "stream",
     "text": [
      "7182\n"
     ]
    },
    {
     "data": {
      "text/html": [
       "<div>\n",
       "<style scoped>\n",
       "    .dataframe tbody tr th:only-of-type {\n",
       "        vertical-align: middle;\n",
       "    }\n",
       "\n",
       "    .dataframe tbody tr th {\n",
       "        vertical-align: top;\n",
       "    }\n",
       "\n",
       "    .dataframe thead th {\n",
       "        text-align: right;\n",
       "    }\n",
       "</style>\n",
       "<table border=\"1\" class=\"dataframe\">\n",
       "  <thead>\n",
       "    <tr style=\"text-align: right;\">\n",
       "      <th></th>\n",
       "      <th>Timestamp</th>\n",
       "      <th>Raw</th>\n",
       "      <th>Attention</th>\n",
       "      <th>Meditation</th>\n",
       "      <th>delta</th>\n",
       "      <th>theta</th>\n",
       "      <th>low-alpha</th>\n",
       "      <th>high-alpha</th>\n",
       "      <th>low-beta</th>\n",
       "      <th>high-beta</th>\n",
       "      <th>low-gamma</th>\n",
       "      <th>mid-gamma</th>\n",
       "    </tr>\n",
       "  </thead>\n",
       "  <tbody>\n",
       "    <tr>\n",
       "      <th>0</th>\n",
       "      <td>2022-05-24T17:29:16.507626</td>\n",
       "      <td>-177</td>\n",
       "      <td>64</td>\n",
       "      <td>64</td>\n",
       "      <td>694808</td>\n",
       "      <td>188232</td>\n",
       "      <td>136635</td>\n",
       "      <td>26161</td>\n",
       "      <td>16092</td>\n",
       "      <td>34502</td>\n",
       "      <td>21563</td>\n",
       "      <td>7784</td>\n",
       "    </tr>\n",
       "    <tr>\n",
       "      <th>1</th>\n",
       "      <td>2022-05-24T17:29:17.008921</td>\n",
       "      <td>-181</td>\n",
       "      <td>70</td>\n",
       "      <td>70</td>\n",
       "      <td>1999281</td>\n",
       "      <td>14385</td>\n",
       "      <td>5165</td>\n",
       "      <td>24117</td>\n",
       "      <td>30364</td>\n",
       "      <td>5791</td>\n",
       "      <td>7462</td>\n",
       "      <td>1570</td>\n",
       "    </tr>\n",
       "    <tr>\n",
       "      <th>2</th>\n",
       "      <td>2022-05-24T17:29:17.509930</td>\n",
       "      <td>-233</td>\n",
       "      <td>70</td>\n",
       "      <td>70</td>\n",
       "      <td>1999281</td>\n",
       "      <td>14385</td>\n",
       "      <td>5165</td>\n",
       "      <td>24117</td>\n",
       "      <td>30364</td>\n",
       "      <td>5791</td>\n",
       "      <td>7462</td>\n",
       "      <td>1570</td>\n",
       "    </tr>\n",
       "    <tr>\n",
       "      <th>3</th>\n",
       "      <td>2022-05-24T17:29:18.011138</td>\n",
       "      <td>-561</td>\n",
       "      <td>56</td>\n",
       "      <td>67</td>\n",
       "      <td>1799494</td>\n",
       "      <td>99830</td>\n",
       "      <td>9278</td>\n",
       "      <td>39952</td>\n",
       "      <td>12219</td>\n",
       "      <td>7391</td>\n",
       "      <td>9344</td>\n",
       "      <td>3304</td>\n",
       "    </tr>\n",
       "    <tr>\n",
       "      <th>4</th>\n",
       "      <td>2022-05-24T17:29:18.512358</td>\n",
       "      <td>-23</td>\n",
       "      <td>56</td>\n",
       "      <td>67</td>\n",
       "      <td>1799494</td>\n",
       "      <td>99830</td>\n",
       "      <td>9278</td>\n",
       "      <td>39952</td>\n",
       "      <td>12219</td>\n",
       "      <td>7391</td>\n",
       "      <td>9344</td>\n",
       "      <td>3304</td>\n",
       "    </tr>\n",
       "  </tbody>\n",
       "</table>\n",
       "</div>"
      ],
      "text/plain": [
       "                    Timestamp  Raw  Attention  Meditation    delta   theta  \\\n",
       "0  2022-05-24T17:29:16.507626 -177         64          64   694808  188232   \n",
       "1  2022-05-24T17:29:17.008921 -181         70          70  1999281   14385   \n",
       "2  2022-05-24T17:29:17.509930 -233         70          70  1999281   14385   \n",
       "3  2022-05-24T17:29:18.011138 -561         56          67  1799494   99830   \n",
       "4  2022-05-24T17:29:18.512358  -23         56          67  1799494   99830   \n",
       "\n",
       "   low-alpha  high-alpha  low-beta  high-beta  low-gamma  mid-gamma  \n",
       "0     136635       26161     16092      34502      21563       7784  \n",
       "1       5165       24117     30364       5791       7462       1570  \n",
       "2       5165       24117     30364       5791       7462       1570  \n",
       "3       9278       39952     12219       7391       9344       3304  \n",
       "4       9278       39952     12219       7391       9344       3304  "
      ]
     },
     "execution_count": 8,
     "metadata": {},
     "output_type": "execute_result"
    }
   ],
   "source": [
    "df = pd.read_csv(path + files[0])\n",
    "print(len(df))\n",
    "df.head(5)"
   ]
  },
  {
   "cell_type": "code",
   "execution_count": 5,
   "id": "16054fc4-3e17-4689-8602-01b5ab910fe1",
   "metadata": {},
   "outputs": [],
   "source": [
    "raw = df[\"Raw\"].tolist()\n",
    "attention = df[\"Attention\"].tolist()\n",
    "meditation = df[\"Meditation\"].tolist()\n",
    "delta = df[\"delta\"].tolist()\n",
    "lo_alpha = df[\"low-alpha\"].tolist()\n",
    "hi_alpha = df[\"high-alpha\"].tolist()\n",
    "lo_beta = df[\"low-beta\"].tolist()\n",
    "hi_beta = df[\"high-beta\"].tolist()\n",
    "lo_gamma = df[\"low-gamma\"].tolist()\n",
    "mid_gamma = df[\"mid-gamma\"].tolist()"
   ]
  },
  {
   "cell_type": "code",
   "execution_count": 6,
   "id": "d69e4e46-ac5b-4ffe-bc6c-b2385152b808",
   "metadata": {},
   "outputs": [
    {
     "data": {
      "image/png": "[encoded data removed]",
      "text/plain": [
       "<Figure size 432x288 with 1 Axes>"
      ]
     },
     "metadata": {
      "needs_background": "light"
     },
     "output_type": "display_data"
    }
   ],
   "source": [
    "#plt.plot(raw)\n",
    "#plt.plot(delta, label = \"delta\")\n",
    "#plt.plot(lo_alpha, label = \"low-alpha\")\n",
    "#plt.plot(hi_alpha, label = \"high-alpha\")\n",
    "# plt.plot(lo_beta, label = \"low-beta\")\n",
    "# plt.plot(hi_beta, label = \"high-beta\")\n",
    "plt.plot(lo_gamma, label = \"low-gamma\")\n",
    "plt.plot(mid_gamma, label = \"mid-gamma\")\n",
    "plt.legend()\n",
    "plt.show()"
   ]
  },
  {
   "cell_type": "code",
   "execution_count": 7,
   "id": "8b89c6c4-d695-4513-833b-77580c861c60",
   "metadata": {},
   "outputs": [
    {
     "data": {
      "image/png": "[encoded data removed]",
      "text/plain": [
       "<Figure size 432x288 with 1 Axes>"
      ]
     },
     "metadata": {
      "needs_background": "light"
     },
     "output_type": "display_data"
    }
   ],
   "source": [
    "plt.plot(raw, label = 'raw')\n",
    "plt.plot(attention, label = 'attention')\n",
    "plt.plot(meditation, label = 'meditation')\n",
    "plt.legend()\n",
    "plt.show()"
   ]
  },
  {
   "cell_type": "markdown",
   "id": "7e6a3585-566f-4a4c-8ad7-f6c8e024f2b2",
   "metadata": {},
   "source": [
    "## Data handling"
   ]
  },
  {
   "cell_type": "code",
   "execution_count": 22,
   "id": "641bcd4b-8a7f-4271-8d99-03bc13eea1f7",
   "metadata": {},
   "outputs": [],
   "source": [
    "# Write audio file without any data modification\n",
    "\n",
    "wavfile.write('../brain_music/raw_delta.wav', rate=44100, data=delta.astype(np.int16))\n",
    "wavfile.write('../brain_music/raw_low_alpha.wav', rate=44100, data=lo_alpha.astype(np.int16))\n",
    "wavfile.write('../brain_music/raw_high_alpha.wav', rate=44100, data=hi_alpha.astype(np.int16))\n",
    "wavfile.write('../brain_music/raw_low_beta.wav', rate=44100, data=lo_beta.astype(np.int16))\n",
    "wavfile.write('../brain_music/raw_high_beta.wav', rate=44100, data=hi_beta.astype(np.int16))\n",
    "wavfile.write('../brain_music/raw_low_gamma.wav', rate=44100, data=lo_gamma.astype(np.int16))\n",
    "wavfile.write('../brain_music/raw_mid_gamma.wav', rate=44100, data=mid_gamma.astype(np.int16))"
   ]
  },
  {
   "cell_type": "code",
   "execution_count": 34,
   "id": "b2da358d-bbac-4074-a011-83b5ae2bd205",
   "metadata": {},
   "outputs": [],
   "source": [
    "# extend data length\n",
    "\n",
    "default_sr = 44100 # sampling rate: 44.1 kHz\n",
    "sec = 12 # expected time of the audio file\n",
    "\n",
    "ext_delta = extend_length(delta, int(sec * default_sr / len(delta)))\n",
    "ext_delta = np.array(ext_delta)\n",
    "\n",
    "ext_lalpha = extend_length(lo_alpha, int(sec * default_sr / len(lo_alpha)))\n",
    "ext_lalpha = np.array(ext_lalpha)\n",
    "\n",
    "ext_halpha = extend_length(hi_alpha, int(sec * default_sr / len(hi_alpha)))\n",
    "ext_halpha = np.array(ext_halpha)\n",
    "\n",
    "ext_lbeta = extend_length(lo_beta, int(sec * default_sr / len(lo_beta)))\n",
    "ext_lbeta = np.array(ext_lbeta)\n",
    "\n",
    "ext_hbeta = extend_length(hi_beta, int(sec * default_sr / len(hi_beta)))\n",
    "ext_hbeta = np.array(ext_hbeta)\n",
    "\n",
    "ext_lgamma = extend_length(lo_gamma, int(sec * default_sr / len(lo_gamma)))\n",
    "ext_lgamma = np.array(ext_lgamma)\n",
    "\n",
    "ext_mgamma = extend_length(mid_gamma, int(sec * default_sr / len(mid_gamma)))\n",
    "ext_mgamma = np.array(ext_mgamma)"
   ]
  },
  {
   "cell_type": "code",
   "execution_count": 23,
   "id": "1963826e-3804-4070-9ad3-328c9a301bd1",
   "metadata": {},
   "outputs": [],
   "source": [
    "# Standarize audio data (whitening)\n",
    "\n",
    "std = StandardScaler()\n",
    "scaled_delta = np.concatenate(std.fit_transform(ext_delta.reshape(-1, 1)))\n",
    "scaled_lalpha = np.concatenate(std.fit_transform(ext_lalpha.reshape(-1, 1)))\n",
    "scaled_halpha = np.concatenate(std.fit_transform(ext_halpha.reshape(-1, 1)))\n",
    "scaled_lbeta = np.concatenate(std.fit_transform(ext_lbeta.reshape(-1, 1)))\n",
    "scaled_hbeta = np.concatenate(std.fit_transform(ext_hbeta.reshape(-1, 1)))\n",
    "scaled_lgamma = np.concatenate(std.fit_transform(ext_lgamma.reshape(-1, 1)))\n",
    "scaled_mgamma = np.concatenate(std.fit_transform(ext_mgamma.reshape(-1, 1)))\n",
    "\n",
    "# scaled_delta = np.concatenate(std.fit_transform(np.array(delta).reshape(-1, 1)))\n",
    "# scaled_lalpha = np.concatenate(std.fit_transform(np.array(lo_alpha).reshape(-1, 1)))\n",
    "# scaled_halpha = np.concatenate(std.fit_transform(np.array(hi_alpha).reshape(-1, 1)))\n",
    "# scaled_lbeta = np.concatenate(std.fit_transform(np.array(lo_beta).reshape(-1, 1)))\n",
    "# scaled_hbeta = np.concatenate(std.fit_transform(np.array(hi_beta).reshape(-1, 1)))\n",
    "# scaled_lgamma = np.concatenate(std.fit_transform(np.array(lo_gamma).reshape(-1, 1)))\n",
    "# scaled_mgamma = np.concatenate(std.fit_transform(np.array(mid_gamma).reshape(-1, 1)))"
   ]
  },
  {
   "cell_type": "code",
   "execution_count": 24,
   "id": "5a29479d-c5f3-4b7b-8832-a1c68f869363",
   "metadata": {},
   "outputs": [
    {
     "data": {
      "image/png": "[encoded data removed]",
      "text/plain": [
       "<Figure size 432x288 with 1 Axes>"
      ]
     },
     "metadata": {
      "needs_background": "light"
     },
     "output_type": "display_data"
    }
   ],
   "source": [
    "# Plot the whitened data\n",
    "\n",
    "plt.plot(scaled_delta, label = \"delta\")\n",
    "plt.plot(scaled_lalpha, label = \"low-alpha\")\n",
    "plt.plot(scaled_halpha, label = \"high-alpha\")\n",
    "plt.plot(scaled_lbeta, label = \"low-beta\")\n",
    "plt.plot(scaled_hbeta, label = \"high-beta\")\n",
    "plt.plot(scaled_lgamma, label = \"low-gamma\")\n",
    "plt.plot(scaled_mgamma, label = \"mid-gamma\")\n",
    "plt.legend(loc = 'best', ncol = 2)\n",
    "plt.show()"
   ]
  },
  {
   "cell_type": "code",
   "execution_count": 25,
   "id": "d87b0154-9a10-4fbc-8758-71c33327e306",
   "metadata": {},
   "outputs": [
    {
     "name": "stdout",
     "output_type": "stream",
     "text": [
      "3670002\n"
     ]
    },
    {
     "data": {
      "text/plain": [
       "array([2892.64432242, 2892.64432242, 2892.64432242, ..., -192.58298467,\n",
       "       -192.58298467, -192.58298467])"
      ]
     },
     "execution_count": 25,
     "metadata": {},
     "output_type": "execute_result"
    }
   ],
   "source": [
    "# adjust the aplitude level to make audible\n",
    "\n",
    "scaled_delta = adjust_amplitude(scaled_delta)\n",
    "scaled_lalpha = adjust_amplitude(scaled_lalpha)\n",
    "scaled_halpha = adjust_amplitude(scaled_halpha) \n",
    "scaled_lbeta = adjust_amplitude(scaled_lbeta)\n",
    "scaled_hbeta = adjust_amplitude(scaled_hbeta)\n",
    "scaled_lgamma = adjust_amplitude(scaled_lgamma)\n",
    "scaled_mgamma = adjust_amplitude(scaled_mgamma)\n",
    "\n",
    "tot = np.concatenate([scaled_delta, scaled_lalpha, scaled_halpha, scaled_lbeta, scaled_hbeta, scaled_lgamma, scaled_mgamma])\n",
    "print(len(tot))\n",
    "adjust_amplitude(tot, amplitude = 8192*4)"
   ]
  },
  {
   "cell_type": "code",
   "execution_count": 26,
   "id": "9c5d9bd8-5908-4730-9c96-6c70e421e91c",
   "metadata": {},
   "outputs": [],
   "source": [
    "wavfile.write('../brain_music/scaled_delta.wav', rate=44100, data=scaled_delta.astype(np.int16))\n",
    "wavfile.write('../brain_music/scaled_low_alpha.wav', rate=44100, data=scaled_lalpha.astype(np.int16))\n",
    "wavfile.write('../brain_music/scaled_high_alpha.wav', rate=44100, data=scaled_halpha.astype(np.int16))\n",
    "wavfile.write('../brain_music/scaled_low_beta.wav', rate=44100, data=scaled_lbeta.astype(np.int16))\n",
    "wavfile.write('../brain_music/scaled_high_beta.wav', rate=44100, data=scaled_hbeta.astype(np.int16))\n",
    "wavfile.write('../brain_music/scaled_low_gamma.wav', rate=44100, data=scaled_lgamma.astype(np.int16))\n",
    "wavfile.write('../brain_music/scaled_mid_gamma.wav', rate=44100, data=scaled_mgamma.astype(np.int16))\n",
    "wavfile.write('../brain_music/brain_music.wav', rate=44100, data=tot.astype(np.int16))"
   ]
  }
 ],
 "metadata": {
  "kernelspec": {
   "display_name": "ksy_project",
   "language": "python",
   "name": "ksy_project"
  },
  "language_info": {
   "codemirror_mode": {
    "name": "ipython",
    "version": 3
   },
   "file_extension": ".py",
   "mimetype": "text/x-python",
   "name": "python",
   "nbconvert_exporter": "python",
   "pygments_lexer": "ipython3",
   "version": "3.9.0"
  }
 },
 "nbformat": 4,
 "nbformat_minor": 5
}
