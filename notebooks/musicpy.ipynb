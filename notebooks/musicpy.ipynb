{
 "cells": [
  {
   "cell_type": "code",
   "execution_count": 2,
   "id": "1851d713-f691-4db2-b350-62d2bf9c9446",
   "metadata": {},
   "outputs": [],
   "source": [
    "import numpy as np\n",
    "from scipy.io import wavfile"
   ]
  },
  {
   "cell_type": "code",
   "execution_count": 4,
   "id": "75f3a1ec-028b-4bb6-8279-6f2e38c2cb88",
   "metadata": {},
   "outputs": [],
   "source": [
    "def get_piano_notes():   \n",
    "    # White keys are in Uppercase and black keys (sharps) are in lowercase\n",
    "    octave = ['C', 'c', 'D', 'd', 'E', 'F', 'f', 'G', 'g', 'A', 'a', 'B'] \n",
    "    base_freq = 440 #Frequency of Note A4\n",
    "    keys = np.array([x+str(y) for y in range(0,9) for x in octave])\n",
    "    # Trim to standard 88 keys\n",
    "    start = np.where(keys == 'A0')[0][0] # starting of 88 key piano\n",
    "    end = np.where(keys == 'C8')[0][0] # ending of 88 key piano\n",
    "    keys = keys[start:end+1]\n",
    "    \n",
    "    note_freqs = dict(zip(keys, [2**((n+1-49)/12)*base_freq for n in range(len(keys))]))\n",
    "    note_freqs[''] = 0.0 # stop\n",
    "    return note_freqs\n",
    "\n",
    "def get_sine_wave(frequency, duration, sample_rate=44100, amplitude=4096):\n",
    "    t = np.linspace(0, duration, int(sample_rate*duration)) # Time axis\n",
    "    wave = amplitude*np.sin(2*np.pi*frequency*t)\n",
    "    return wave"
   ]
  },
  {
   "cell_type": "code",
   "execution_count": 5,
   "id": "0d40a0d4-3f25-40ee-aad0-6c92844e26e4",
   "metadata": {},
   "outputs": [],
   "source": [
    "# Get middle C frequency\n",
    "note_freqs = get_piano_notes()\n",
    "frequency = note_freqs['C4']\n",
    "\n",
    "# Pure sine wave\n",
    "sine_wave = get_sine_wave(frequency, duration=2, amplitude=2048)\n",
    "wavfile.write('pure_c.wav', rate=44100, data=sine_wave.astype(np.int16))"
   ]
  },
  {
   "cell_type": "code",
   "execution_count": 6,
   "id": "4c69012e-87d5-46a6-b03b-21d1f966f1af",
   "metadata": {},
   "outputs": [
    {
     "name": "stdout",
     "output_type": "stream",
     "text": [
      "{'A0': 27.5, 'a0': 29.13523509488062, 'B0': 30.86770632850775, 'C1': 32.70319566257483, 'c1': 34.64782887210901, 'D1': 36.70809598967594, 'd1': 38.890872965260115, 'E1': 41.20344461410875, 'F1': 43.653528929125486, 'f1': 46.2493028389543, 'G1': 48.999429497718666, 'g1': 51.91308719749314, 'A1': 55.0, 'a1': 58.27047018976124, 'B1': 61.7354126570155, 'C2': 65.40639132514966, 'c2': 69.29565774421802, 'D2': 73.41619197935188, 'd2': 77.78174593052023, 'E2': 82.4068892282175, 'F2': 87.30705785825097, 'f2': 92.4986056779086, 'G2': 97.99885899543733, 'g2': 103.82617439498628, 'A2': 110.0, 'a2': 116.54094037952248, 'B2': 123.47082531403103, 'C3': 130.8127826502993, 'c3': 138.59131548843604, 'D3': 146.8323839587038, 'd3': 155.56349186104046, 'E3': 164.81377845643496, 'F3': 174.61411571650194, 'f3': 184.9972113558172, 'G3': 195.99771799087463, 'g3': 207.65234878997256, 'A3': 220.0, 'a3': 233.08188075904496, 'B3': 246.94165062806206, 'C4': 261.6255653005986, 'c4': 277.1826309768721, 'D4': 293.6647679174076, 'd4': 311.1269837220809, 'E4': 329.6275569128699, 'F4': 349.2282314330039, 'f4': 369.9944227116344, 'G4': 391.99543598174927, 'g4': 415.3046975799451, 'A4': 440.0, 'a4': 466.1637615180899, 'B4': 493.8833012561241, 'C5': 523.2511306011972, 'c5': 554.3652619537442, 'D5': 587.3295358348151, 'd5': 622.2539674441618, 'E5': 659.2551138257398, 'F5': 698.4564628660078, 'f5': 739.9888454232688, 'G5': 783.9908719634985, 'g5': 830.6093951598903, 'A5': 880.0, 'a5': 932.3275230361799, 'B5': 987.7666025122483, 'C6': 1046.5022612023945, 'c6': 1108.7305239074883, 'D6': 1174.6590716696303, 'd6': 1244.5079348883237, 'E6': 1318.5102276514797, 'F6': 1396.9129257320155, 'f6': 1479.9776908465376, 'G6': 1567.981743926997, 'g6': 1661.2187903197805, 'A6': 1760.0, 'a6': 1864.6550460723597, 'B6': 1975.533205024496, 'C7': 2093.004522404789, 'c7': 2217.4610478149766, 'D7': 2349.31814333926, 'd7': 2489.0158697766474, 'E7': 2637.02045530296, 'F7': 2793.825851464031, 'f7': 2959.955381693075, 'G7': 3135.9634878539946, 'g7': 3322.437580639561, 'A7': 3520.0, 'a7': 3729.3100921447194, 'B7': 3951.066410048992, 'C8': 4186.009044809578, '': 0.0}\n"
     ]
    }
   ],
   "source": [
    "print(note_freqs)"
   ]
  },
  {
   "cell_type": "code",
   "execution_count": 8,
   "id": "52ec0030-bda8-4a5b-90d8-25087c19da5b",
   "metadata": {},
   "outputs": [
    {
     "name": "stdout",
     "output_type": "stream",
     "text": [
      "[   0.           76.32305686  152.54007653 ... 2043.34338985 2047.06787444\n",
      " 2047.94832544]\n"
     ]
    }
   ],
   "source": [
    "print(sine_wave)"
   ]
  },
  {
   "cell_type": "code",
   "execution_count": 11,
   "id": "b8c07f10-cf0d-43fb-8142-a2dfe8313bc3",
   "metadata": {},
   "outputs": [
    {
     "ename": "NameError",
     "evalue": "name 't' is not defined",
     "output_type": "error",
     "traceback": [
      "\u001b[0;31m---------------------------------------------------------------------------\u001b[0m",
      "\u001b[0;31mNameError\u001b[0m                                 Traceback (most recent call last)",
      "Input \u001b[0;32mIn [11]\u001b[0m, in \u001b[0;36m<cell line: 1>\u001b[0;34m()\u001b[0m\n\u001b[0;32m----> 1\u001b[0m \u001b[38;5;28mprint\u001b[39m(\u001b[43mt\u001b[49m)\n",
      "\u001b[0;31mNameError\u001b[0m: name 't' is not defined"
     ]
    }
   ],
   "source": []
  },
  {
   "cell_type": "code",
   "execution_count": 10,
   "id": "f02eb58f-9890-4512-895f-d5e518166a55",
   "metadata": {},
   "outputs": [
    {
     "data": {
      "text/plain": [
       "-2047.9999999357312"
      ]
     },
     "execution_count": 10,
     "metadata": {},
     "output_type": "execute_result"
    }
   ],
   "source": []
  },
  {
   "cell_type": "code",
   "execution_count": null,
   "id": "85e5ee1b-da21-4008-bbbd-2534a9f230dc",
   "metadata": {},
   "outputs": [],
   "source": []
  }
 ],
 "metadata": {
  "kernelspec": {
   "display_name": "ksy_project",
   "language": "python",
   "name": "ksy_project"
  },
  "language_info": {
   "codemirror_mode": {
    "name": "ipython",
    "version": 3
   },
   "file_extension": ".py",
   "mimetype": "text/x-python",
   "name": "python",
   "nbconvert_exporter": "python",
   "pygments_lexer": "ipython3",
   "version": "3.9.0"
  }
 },
 "nbformat": 4,
 "nbformat_minor": 5
}
