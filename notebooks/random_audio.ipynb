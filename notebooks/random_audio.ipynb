{
 "cells": [
  {
   "cell_type": "code",
   "execution_count": 3,
   "id": "70ef25a6-f8bf-48ae-870c-0e7dd743a766",
   "metadata": {},
   "outputs": [
    {
     "name": "stdout",
     "output_type": "stream",
     "text": [
      "[[-0.76976441 -0.01770262]\n",
      " [-0.53940462 -0.9199599 ]\n",
      " [ 0.97946654 -0.5454581 ]\n",
      " ...\n",
      " [ 0.40863213 -0.74266657]\n",
      " [ 0.78873194 -0.22598801]\n",
      " [ 0.57838429  0.2872871 ]]\n"
     ]
    }
   ],
   "source": [
    "import numpy as np\n",
    "import soundfile as sf\n",
    "\n",
    "rate = 44100\n",
    "data = np.random.uniform(-1, 1, size=(rate * 10, 2))\n",
    "print(data)\n",
    "sf.write('stereo_file.wav', data, rate, subtype='PCM_24')"
   ]
  },
  {
   "cell_type": "code",
   "execution_count": null,
   "id": "34199714-8099-4273-8210-7825bfbc5152",
   "metadata": {},
   "outputs": [],
   "source": []
  }
 ],
 "metadata": {
  "kernelspec": {
   "display_name": "ksy_project",
   "language": "python",
   "name": "ksy_project"
  },
  "language_info": {
   "codemirror_mode": {
    "name": "ipython",
    "version": 3
   },
   "file_extension": ".py",
   "mimetype": "text/x-python",
   "name": "python",
   "nbconvert_exporter": "python",
   "pygments_lexer": "ipython3",
   "version": "3.9.0"
  }
 },
 "nbformat": 4,
 "nbformat_minor": 5
}
